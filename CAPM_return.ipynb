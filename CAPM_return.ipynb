{
 "cells": [
  {
   "cell_type": "code",
   "execution_count": null,
   "id": "6d9b6a4e",
   "metadata": {},
   "outputs": [],
   "source": []
  },
  {
   "cell_type": "code",
   "execution_count": 107,
   "id": "46d4eb97",
   "metadata": {},
   "outputs": [
    {
     "name": "stdout",
     "output_type": "stream",
     "text": [
      "Requirement already satisfied: pandas_datareader in c:\\apps\\anaconda\\lib\\site-packages (0.10.0)Note: you may need to restart the kernel to use updated packages.\n",
      "Requirement already satisfied: lxml in c:\\apps\\anaconda\\lib\\site-packages (from pandas_datareader) (4.8.0)\n",
      "Requirement already satisfied: pandas>=0.23 in c:\\apps\\anaconda\\lib\\site-packages (from pandas_datareader) (1.4.2)\n",
      "Requirement already satisfied: requests>=2.19.0 in c:\\apps\\anaconda\\lib\\site-packages (from pandas_datareader) (2.27.1)\n",
      "Requirement already satisfied: numpy>=1.18.5 in c:\\apps\\anaconda\\lib\\site-packages (from pandas>=0.23->pandas_datareader) (1.21.5)\n",
      "Requirement already satisfied: pytz>=2020.1 in c:\\apps\\anaconda\\lib\\site-packages (from pandas>=0.23->pandas_datareader) (2021.3)\n",
      "Requirement already satisfied: python-dateutil>=2.8.1 in c:\\apps\\anaconda\\lib\\site-packages (from pandas>=0.23->pandas_datareader) (2.8.2)\n",
      "Requirement already satisfied: six>=1.5 in c:\\apps\\anaconda\\lib\\site-packages (from python-dateutil>=2.8.1->pandas>=0.23->pandas_datareader) (1.16.0)\n",
      "Requirement already satisfied: certifi>=2017.4.17 in c:\\apps\\anaconda\\lib\\site-packages (from requests>=2.19.0->pandas_datareader) (2021.10.8)\n",
      "Requirement already satisfied: charset-normalizer~=2.0.0 in c:\\apps\\anaconda\\lib\\site-packages (from requests>=2.19.0->pandas_datareader) (2.0.4)\n",
      "Requirement already satisfied: idna<4,>=2.5 in c:\\apps\\anaconda\\lib\\site-packages (from requests>=2.19.0->pandas_datareader) (3.3)\n",
      "Requirement already satisfied: urllib3<1.27,>=1.21.1 in c:\\apps\\anaconda\\lib\\site-packages (from requests>=2.19.0->pandas_datareader) (1.26.9)\n",
      "\n"
     ]
    }
   ],
   "source": [
    "pip install pandas_datareader"
   ]
  },
  {
   "cell_type": "code",
   "execution_count": 108,
   "id": "ecb29b2a",
   "metadata": {},
   "outputs": [],
   "source": [
    "from scipy import stats\n",
    "import pandas as pd\n",
    "import pandas_datareader as web \n",
    "import datetime\n",
    "import matplotlib.pyplot as plt\n",
    "%matplotlib inline"
   ]
  },
  {
   "cell_type": "code",
   "execution_count": 109,
   "id": "f8b5904c",
   "metadata": {},
   "outputs": [],
   "source": [
    "start=datetime.datetime(2021,1,1)\n",
    "end=datetime.datetime(2022,1,1)"
   ]
  },
  {
   "cell_type": "code",
   "execution_count": 110,
   "id": "ee908b05",
   "metadata": {},
   "outputs": [
    {
     "data": {
      "text/html": [
       "<div>\n",
       "<style scoped>\n",
       "    .dataframe tbody tr th:only-of-type {\n",
       "        vertical-align: middle;\n",
       "    }\n",
       "\n",
       "    .dataframe tbody tr th {\n",
       "        vertical-align: top;\n",
       "    }\n",
       "\n",
       "    .dataframe thead th {\n",
       "        text-align: right;\n",
       "    }\n",
       "</style>\n",
       "<table border=\"1\" class=\"dataframe\">\n",
       "  <thead>\n",
       "    <tr style=\"text-align: right;\">\n",
       "      <th></th>\n",
       "      <th>High</th>\n",
       "      <th>Low</th>\n",
       "      <th>Open</th>\n",
       "      <th>Close</th>\n",
       "      <th>Volume</th>\n",
       "      <th>Adj Close</th>\n",
       "    </tr>\n",
       "    <tr>\n",
       "      <th>Date</th>\n",
       "      <th></th>\n",
       "      <th></th>\n",
       "      <th></th>\n",
       "      <th></th>\n",
       "      <th></th>\n",
       "      <th></th>\n",
       "    </tr>\n",
       "  </thead>\n",
       "  <tbody>\n",
       "    <tr>\n",
       "      <th>2021-01-01</th>\n",
       "      <td>14049.849609</td>\n",
       "      <td>13991.349609</td>\n",
       "      <td>13996.099609</td>\n",
       "      <td>14018.500000</td>\n",
       "      <td>358100</td>\n",
       "      <td>14018.500000</td>\n",
       "    </tr>\n",
       "    <tr>\n",
       "      <th>2021-01-04</th>\n",
       "      <td>14147.950195</td>\n",
       "      <td>13953.750000</td>\n",
       "      <td>14104.349609</td>\n",
       "      <td>14132.900391</td>\n",
       "      <td>495000</td>\n",
       "      <td>14132.900391</td>\n",
       "    </tr>\n",
       "    <tr>\n",
       "      <th>2021-01-05</th>\n",
       "      <td>14215.599609</td>\n",
       "      <td>14048.150391</td>\n",
       "      <td>14075.150391</td>\n",
       "      <td>14199.500000</td>\n",
       "      <td>492500</td>\n",
       "      <td>14199.500000</td>\n",
       "    </tr>\n",
       "    <tr>\n",
       "      <th>2021-01-06</th>\n",
       "      <td>14244.150391</td>\n",
       "      <td>14039.900391</td>\n",
       "      <td>14240.950195</td>\n",
       "      <td>14146.250000</td>\n",
       "      <td>632300</td>\n",
       "      <td>14146.250000</td>\n",
       "    </tr>\n",
       "    <tr>\n",
       "      <th>2021-01-07</th>\n",
       "      <td>14256.250000</td>\n",
       "      <td>14123.099609</td>\n",
       "      <td>14253.750000</td>\n",
       "      <td>14137.349609</td>\n",
       "      <td>559200</td>\n",
       "      <td>14137.349609</td>\n",
       "    </tr>\n",
       "  </tbody>\n",
       "</table>\n",
       "</div>"
      ],
      "text/plain": [
       "                    High           Low          Open         Close  Volume  \\\n",
       "Date                                                                         \n",
       "2021-01-01  14049.849609  13991.349609  13996.099609  14018.500000  358100   \n",
       "2021-01-04  14147.950195  13953.750000  14104.349609  14132.900391  495000   \n",
       "2021-01-05  14215.599609  14048.150391  14075.150391  14199.500000  492500   \n",
       "2021-01-06  14244.150391  14039.900391  14240.950195  14146.250000  632300   \n",
       "2021-01-07  14256.250000  14123.099609  14253.750000  14137.349609  559200   \n",
       "\n",
       "               Adj Close  \n",
       "Date                      \n",
       "2021-01-01  14018.500000  \n",
       "2021-01-04  14132.900391  \n",
       "2021-01-05  14199.500000  \n",
       "2021-01-06  14146.250000  \n",
       "2021-01-07  14137.349609  "
      ]
     },
     "execution_count": 110,
     "metadata": {},
     "output_type": "execute_result"
    }
   ],
   "source": [
    "df_nifty=web.DataReader(\"^NSEI\",\"yahoo\",start,end)\n",
    "df_nifty.head()"
   ]
  },
  {
   "cell_type": "code",
   "execution_count": 111,
   "id": "0601278b",
   "metadata": {},
   "outputs": [
    {
     "data": {
      "text/html": [
       "<div>\n",
       "<style scoped>\n",
       "    .dataframe tbody tr th:only-of-type {\n",
       "        vertical-align: middle;\n",
       "    }\n",
       "\n",
       "    .dataframe tbody tr th {\n",
       "        vertical-align: top;\n",
       "    }\n",
       "\n",
       "    .dataframe thead th {\n",
       "        text-align: right;\n",
       "    }\n",
       "</style>\n",
       "<table border=\"1\" class=\"dataframe\">\n",
       "  <thead>\n",
       "    <tr style=\"text-align: right;\">\n",
       "      <th></th>\n",
       "      <th>High</th>\n",
       "      <th>Low</th>\n",
       "      <th>Open</th>\n",
       "      <th>Close</th>\n",
       "      <th>Volume</th>\n",
       "      <th>Adj Close</th>\n",
       "    </tr>\n",
       "    <tr>\n",
       "      <th>Date</th>\n",
       "      <th></th>\n",
       "      <th></th>\n",
       "      <th></th>\n",
       "      <th></th>\n",
       "      <th></th>\n",
       "      <th></th>\n",
       "    </tr>\n",
       "  </thead>\n",
       "  <tbody>\n",
       "    <tr>\n",
       "      <th>2021-01-01</th>\n",
       "      <td>5338.000000</td>\n",
       "      <td>5250.000000</td>\n",
       "      <td>5310.200195</td>\n",
       "      <td>5280.149902</td>\n",
       "      <td>1447187.0</td>\n",
       "      <td>5271.631836</td>\n",
       "    </tr>\n",
       "    <tr>\n",
       "      <th>2021-01-04</th>\n",
       "      <td>5324.000000</td>\n",
       "      <td>5196.200195</td>\n",
       "      <td>5324.000000</td>\n",
       "      <td>5216.200195</td>\n",
       "      <td>2333659.0</td>\n",
       "      <td>5207.785156</td>\n",
       "    </tr>\n",
       "    <tr>\n",
       "      <th>2021-01-05</th>\n",
       "      <td>5224.200195</td>\n",
       "      <td>5062.500000</td>\n",
       "      <td>5218.000000</td>\n",
       "      <td>5119.000000</td>\n",
       "      <td>3953400.0</td>\n",
       "      <td>5110.741699</td>\n",
       "    </tr>\n",
       "    <tr>\n",
       "      <th>2021-01-06</th>\n",
       "      <td>5168.350098</td>\n",
       "      <td>4990.299805</td>\n",
       "      <td>5130.000000</td>\n",
       "      <td>5030.299805</td>\n",
       "      <td>3607923.0</td>\n",
       "      <td>5022.184570</td>\n",
       "    </tr>\n",
       "    <tr>\n",
       "      <th>2021-01-07</th>\n",
       "      <td>5131.549805</td>\n",
       "      <td>5021.299805</td>\n",
       "      <td>5065.000000</td>\n",
       "      <td>5081.000000</td>\n",
       "      <td>3035750.0</td>\n",
       "      <td>5072.803223</td>\n",
       "    </tr>\n",
       "  </tbody>\n",
       "</table>\n",
       "</div>"
      ],
      "text/plain": [
       "                   High          Low         Open        Close     Volume  \\\n",
       "Date                                                                        \n",
       "2021-01-01  5338.000000  5250.000000  5310.200195  5280.149902  1447187.0   \n",
       "2021-01-04  5324.000000  5196.200195  5324.000000  5216.200195  2333659.0   \n",
       "2021-01-05  5224.200195  5062.500000  5218.000000  5119.000000  3953400.0   \n",
       "2021-01-06  5168.350098  4990.299805  5130.000000  5030.299805  3607923.0   \n",
       "2021-01-07  5131.549805  5021.299805  5065.000000  5081.000000  3035750.0   \n",
       "\n",
       "              Adj Close  \n",
       "Date                     \n",
       "2021-01-01  5271.631836  \n",
       "2021-01-04  5207.785156  \n",
       "2021-01-05  5110.741699  \n",
       "2021-01-06  5022.184570  \n",
       "2021-01-07  5072.803223  "
      ]
     },
     "execution_count": 111,
     "metadata": {},
     "output_type": "execute_result"
    }
   ],
   "source": [
    "df_b=web.DataReader(\"BAJFINANCE.NS\",\"yahoo\",start,end)\n",
    "df_b.head()"
   ]
  },
  {
   "cell_type": "code",
   "execution_count": 112,
   "id": "50a0c7e3",
   "metadata": {},
   "outputs": [
    {
     "data": {
      "text/plain": [
       "<matplotlib.legend.Legend at 0x231d8e0b610>"
      ]
     },
     "execution_count": 112,
     "metadata": {},
     "output_type": "execute_result"
    },
    {
     "data": {
      "image/png": "[encoded data removed]",
      "text/plain": [
       "<Figure size 720x576 with 1 Axes>"
      ]
     },
     "metadata": {
      "needs_background": "light"
     },
     "output_type": "display_data"
    }
   ],
   "source": [
    "df_nifty['Close'].plot(label = 'Nifty', figsize=(10,8) )\n",
    "df_b['Close'].plot(label = 'Bajaj')\n",
    "plt.legend()"
   ]
  },
  {
   "cell_type": "code",
   "execution_count": 113,
   "id": "7ff2bfdd",
   "metadata": {},
   "outputs": [],
   "source": [
    "df_nifty['cum']=df_nifty[\"Close\"]/df_nifty[\"Close\"].iloc[0]\n",
    "df_b['cum']=df_b[\"Close\"]/df_b[\"Close\"].iloc[0]\n"
   ]
  },
  {
   "cell_type": "code",
   "execution_count": 114,
   "id": "d66c0c01",
   "metadata": {},
   "outputs": [
    {
     "data": {
      "text/plain": [
       "<matplotlib.legend.Legend at 0x231d8b53ca0>"
      ]
     },
     "execution_count": 114,
     "metadata": {},
     "output_type": "execute_result"
    },
    {
     "data": {
      "image/png": "[encoded data removed]",
      "text/plain": [
       "<Figure size 720x576 with 1 Axes>"
      ]
     },
     "metadata": {
      "needs_background": "light"
     },
     "output_type": "display_data"
    }
   ],
   "source": [
    "df_nifty['cum'].plot(label = 'Nifty', figsize=(10,8))\n",
    "df_b['cum'].plot(label = 'FB')\n",
    "plt.legend()"
   ]
  },
  {
   "cell_type": "code",
   "execution_count": 115,
   "id": "b7b1ed15",
   "metadata": {},
   "outputs": [],
   "source": [
    "df_nifty['daily_ret'] = df_nifty['Close'].pct_change(1)\n",
    "df_b['daily_ret'] = df_b['Close'].pct_change(1)"
   ]
  },
  {
   "cell_type": "code",
   "execution_count": 116,
   "id": "c994a7b6",
   "metadata": {},
   "outputs": [
    {
     "data": {
      "text/plain": [
       "<matplotlib.collections.PathCollection at 0x231d94d9f40>"
      ]
     },
     "execution_count": 116,
     "metadata": {},
     "output_type": "execute_result"
    },
    {
     "data": {
      "image/png": "[encoded data removed]",
      "text/plain": [
       "<Figure size 432x288 with 1 Axes>"
      ]
     },
     "metadata": {
      "needs_background": "light"
     },
     "output_type": "display_data"
    }
   ],
   "source": [
    "plt.scatter(df_nifty['daily_ret'],df_fb['daily_ret'])"
   ]
  },
  {
   "cell_type": "code",
   "execution_count": 117,
   "id": "f700e1d8",
   "metadata": {},
   "outputs": [
    {
     "data": {
      "text/plain": [
       "LinregressResult(slope=0.3028960742957345, intercept=0.0005058653732726757, rvalue=0.6396327955262322, pvalue=8.058089332556864e-30, stderr=0.023255506783162176, intercept_stderr=0.00048523313437910556)"
      ]
     },
     "execution_count": 117,
     "metadata": {},
     "output_type": "execute_result"
    }
   ],
   "source": [
    "LR = stats.linregress(df_b['daily_ret'].iloc[1:],df_nifty['daily_ret'].iloc[1:])\n",
    "LR"
   ]
  },
  {
   "cell_type": "code",
   "execution_count": 118,
   "id": "0c871c4e",
   "metadata": {},
   "outputs": [],
   "source": [
    "beta,alpha,r_val,p_val,std_err = LR"
   ]
  },
  {
   "cell_type": "code",
   "execution_count": 119,
   "id": "17a157c3",
   "metadata": {},
   "outputs": [],
   "source": [
    "date=datetime.datetime(2022,6,8)"
   ]
  },
  {
   "cell_type": "code",
   "execution_count": 120,
   "id": "aa37e95c",
   "metadata": {},
   "outputs": [
    {
     "data": {
      "text/plain": [
       "0.22646634346329372"
      ]
     },
     "execution_count": 120,
     "metadata": {},
     "output_type": "execute_result"
    }
   ],
   "source": [
    "rm = df_nifty['daily_ret'].mean()*248\n",
    "rm"
   ]
  },
  {
   "cell_type": "code",
   "execution_count": 121,
   "id": "13218094",
   "metadata": {},
   "outputs": [
    {
     "data": {
      "text/plain": [
       "0.04"
      ]
     },
     "execution_count": 121,
     "metadata": {},
     "output_type": "execute_result"
    }
   ],
   "source": [
    "rf=0.04\n",
    "rf"
   ]
  },
  {
   "cell_type": "code",
   "execution_count": 122,
   "id": "9a5a9263",
   "metadata": {},
   "outputs": [
    {
     "data": {
      "text/plain": [
       "0.09698578879658444"
      ]
     },
     "execution_count": 122,
     "metadata": {},
     "output_type": "execute_result"
    }
   ],
   "source": [
    "expected_return=rf+beta*(rm-rf)+alpha\n",
    "expected_return"
   ]
  },
  {
   "cell_type": "code",
   "execution_count": 123,
   "id": "a1f3d3c4",
   "metadata": {},
   "outputs": [
    {
     "data": {
      "text/plain": [
       "6360.101677328015"
      ]
     },
     "execution_count": 123,
     "metadata": {},
     "output_type": "execute_result"
    }
   ],
   "source": [
    "ret=(df_b[\"Close\"].iloc[0])+(expected_return*((df_b['Close']).iloc[0])*(((date-start).days)/248))\n",
    "ret"
   ]
  },
  {
   "cell_type": "code",
   "execution_count": 124,
   "id": "c9ddcd3b",
   "metadata": {},
   "outputs": [
    {
     "data": {
      "text/html": [
       "<div>\n",
       "<style scoped>\n",
       "    .dataframe tbody tr th:only-of-type {\n",
       "        vertical-align: middle;\n",
       "    }\n",
       "\n",
       "    .dataframe tbody tr th {\n",
       "        vertical-align: top;\n",
       "    }\n",
       "\n",
       "    .dataframe thead th {\n",
       "        text-align: right;\n",
       "    }\n",
       "</style>\n",
       "<table border=\"1\" class=\"dataframe\">\n",
       "  <thead>\n",
       "    <tr style=\"text-align: right;\">\n",
       "      <th></th>\n",
       "      <th>High</th>\n",
       "      <th>Low</th>\n",
       "      <th>Open</th>\n",
       "      <th>Close</th>\n",
       "      <th>Volume</th>\n",
       "      <th>Adj Close</th>\n",
       "    </tr>\n",
       "    <tr>\n",
       "      <th>Date</th>\n",
       "      <th></th>\n",
       "      <th></th>\n",
       "      <th></th>\n",
       "      <th></th>\n",
       "      <th></th>\n",
       "      <th></th>\n",
       "    </tr>\n",
       "  </thead>\n",
       "  <tbody>\n",
       "    <tr>\n",
       "      <th>2022-06-08</th>\n",
       "      <td>6054</td>\n",
       "      <td>5802.25</td>\n",
       "      <td>5900</td>\n",
       "      <td>5954.299805</td>\n",
       "      <td>1334146</td>\n",
       "      <td>5954.299805</td>\n",
       "    </tr>\n",
       "  </tbody>\n",
       "</table>\n",
       "</div>"
      ],
      "text/plain": [
       "            High      Low  Open        Close   Volume    Adj Close\n",
       "Date                                                              \n",
       "2022-06-08  6054  5802.25  5900  5954.299805  1334146  5954.299805"
      ]
     },
     "execution_count": 124,
     "metadata": {},
     "output_type": "execute_result"
    }
   ],
   "source": [
    "df_baj=web.DataReader(\"BAJFINANCE.NS\",\"yahoo\",date,date)\n",
    "df_baj"
   ]
  },
  {
   "cell_type": "code",
   "execution_count": 125,
   "id": "0261b54f",
   "metadata": {},
   "outputs": [
    {
     "data": {
      "text/plain": [
       "0.07685423333538091"
      ]
     },
     "execution_count": 125,
     "metadata": {},
     "output_type": "execute_result"
    }
   ],
   "source": [
    "error=(ret-df_baj[\"Close\"].iloc[0])/(df_b[\"Close\"].iloc[0])\n",
    "error"
   ]
  },
  {
   "cell_type": "code",
   "execution_count": null,
   "id": "dd01650e",
   "metadata": {},
   "outputs": [],
   "source": []
  }
 ],
 "metadata": {
  "kernelspec": {
   "display_name": "Python 3 (ipykernel)",
   "language": "python",
   "name": "python3"
  },
  "language_info": {
   "codemirror_mode": {
    "name": "ipython",
    "version": 3
   },
   "file_extension": ".py",
   "mimetype": "text/x-python",
   "name": "python",
   "nbconvert_exporter": "python",
   "pygments_lexer": "ipython3",
   "version": "3.9.12"
  }
 },
 "nbformat": 4,
 "nbformat_minor": 5
}
